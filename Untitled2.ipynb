{
  "nbformat": 4,
  "nbformat_minor": 0,
  "metadata": {
    "colab": {
      "provenance": [],
      "authorship_tag": "ABX9TyNpJNv5456loGzQg/Lthh9C",
      "include_colab_link": true
    },
    "kernelspec": {
      "name": "python3",
      "display_name": "Python 3"
    },
    "language_info": {
      "name": "python"
    }
  },
  "cells": [
    {
      "cell_type": "markdown",
      "metadata": {
        "id": "view-in-github",
        "colab_type": "text"
      },
      "source": [
        "<a href=\"https://colab.research.google.com/github/AhmadAl-Momani/python/blob/main/Untitled2.ipynb\" target=\"_parent\"><img src=\"https://colab.research.google.com/assets/colab-badge.svg\" alt=\"Open In Colab\"/></a>"
      ]
    },
    {
      "cell_type": "code",
      "execution_count": null,
      "metadata": {
        "id": "vruxYPdvI7hb"
      },
      "outputs": [],
      "source": [
        "soup.title\n",
        "# <title>The Dormouse's story</title>\n",
        "\n",
        "soup.title.name\n",
        "# u'title'\n",
        "\n",
        "print(soup.title.string)\n",
        "# u'The Dormouse's story'\n",
        "\n",
        "print(soup.title.parent.name)\n",
        "# u'head'\n",
        "\n",
        "print(soup.p)\n",
        "# <p class=\"title\"><b>The Dormouse's story</b></p>\n",
        "\n",
        "print(soup.p['class'])\n",
        "# u'title'\n",
        "\n",
        "print(soup.a)\n",
        "# <a class=\"sister\" href=\"http://example.com/elsie\" id=\"link1\">Elsie</a>\n",
        "\n",
        "print(soup.find_all('a'))\n",
        "# [<a class=\"sister\" href=\"http://example.com/elsie\" id=\"link1\">Elsie</a>,\n",
        "#  <a class=\"sister\" href=\"http://example.com/lacie\" id=\"link2\">Lacie</a>,\n",
        "#  <a class=\"sister\" href=\"http://example.com/tillie\" id=\"link3\">Tillie</a>]\n",
        "\n",
        "print(soup.find(id=\"link3\"))\n",
        "# <a class=\"sister\" href=\"http://example.com/tillie\" id=\"link3\">Tillie</a>"
      ]
    }
  ]
}