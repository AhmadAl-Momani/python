{
  "cells": [
    {
      "cell_type": "markdown",
      "metadata": {
        "id": "view-in-github",
        "colab_type": "text"
      },
      "source": [
        "<a href=\"https://colab.research.google.com/github/AhmadAl-Momani/python/blob/main/Copy_of_Welcome_To_Colab.ipynb\" target=\"_parent\"><img src=\"https://colab.research.google.com/assets/colab-badge.svg\" alt=\"Open In Colab\"/></a>"
      ]
    },
    {
      "cell_type": "code",
      "source": [
        "def avg(total,count):\n",
        "\n",
        "    mark=input(\"mark\").upper()\n",
        "\n",
        "\n",
        "    if mark!= \"Q\":\n",
        "        mar = float(mark)\n",
        "        total+=mar\n",
        "        count+=1\n",
        "        avg(total,count)\n",
        "        mark=input(\"mark\").upper()\n",
        "    print(total/count)\n",
        "print(avg(0,0))"
      ],
      "metadata": {
        "id": "2xGU2MbznI7C"
      },
      "execution_count": null,
      "outputs": []
    }
  ],
  "metadata": {
    "colab": {
      "provenance": [],
      "include_colab_link": true
    },
    "kernelspec": {
      "display_name": "Python 3",
      "name": "python3"
    }
  },
  "nbformat": 4,
  "nbformat_minor": 0
}