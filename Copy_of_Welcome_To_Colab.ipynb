{
  "cells": [
    {
      "cell_type": "markdown",
      "metadata": {
        "id": "view-in-github",
        "colab_type": "text"
      },
      "source": [
        "<a href=\"https://colab.research.google.com/github/AhmadAl-Momani/python/blob/main/Copy_of_Welcome_To_Colab.ipynb\" target=\"_parent\"><img src=\"https://colab.research.google.com/assets/colab-badge.svg\" alt=\"Open In Colab\"/></a>"
      ]
    },
    {
      "cell_type": "code",
      "source": [
        "def print_average():\n",
        "    total = 0\n",
        "    count = 0\n",
        "\n",
        "    while True:\n",
        "        mark = input(\"Enter a mark\").upper()\n",
        "\n",
        "        if mark == 'Q':\n",
        "            break\n",
        "\n",
        "        try:\n",
        "            mark = float(mark)\n",
        "            total += mark\n",
        "            count += 1\n",
        "        except ValueError:\n",
        "            print(\"Wrong\")\n",
        "\n",
        "    if count == 0:\n",
        "        print(\"No marks\")\n",
        "    else:\n",
        "        average = total / count\n",
        "        print(f\"The average mark is: {average}\")\n",
        "\n",
        "print_average()"
      ],
      "metadata": {
        "id": "2xGU2MbznI7C"
      },
      "execution_count": null,
      "outputs": []
    }
  ],
  "metadata": {
    "colab": {
      "provenance": [],
      "include_colab_link": true
    },
    "kernelspec": {
      "display_name": "Python 3",
      "name": "python3"
    }
  },
  "nbformat": 4,
  "nbformat_minor": 0
}