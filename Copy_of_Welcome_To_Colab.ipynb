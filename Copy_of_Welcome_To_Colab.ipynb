{
  "cells": [
    {
      "cell_type": "markdown",
      "metadata": {
        "id": "view-in-github",
        "colab_type": "text"
      },
      "source": [
        "<a href=\"https://colab.research.google.com/github/AhmadAl-Momani/python/blob/main/Copy_of_Welcome_To_Colab.ipynb\" target=\"_parent\"><img src=\"https://colab.research.google.com/assets/colab-badge.svg\" alt=\"Open In Colab\"/></a>"
      ]
    },
    {
      "cell_type": "code",
      "source": [
        "# Create variables of each basic data type\n",
        "integer_var = 10\n",
        "float_var = 10.0\n",
        "boolean_var = True\n",
        "string_var = \"Hello, Python!\"\n",
        "\n",
        "# Print their types using type()\n",
        "print(type(integer_var))\n",
        "print(type(float_var))\n",
        "print(type(boolean_var))\n",
        "print(type(string_var))\n",
        "\n",
        "# Update their values\n",
        "integer_var = 20\n",
        "float_var = 20.0\n",
        "boolean_var = False\n",
        "string_var = \"Updated string\"\n",
        "\n",
        "# Print updated variables\n",
        "print(integer_var)\n",
        "print(float_var)\n",
        "print(boolean_var)\n",
        "print(string_var)\n",
        "\n",
        "# Delete them\n",
        "del integer_var\n",
        "del float_var\n",
        "del boolean_var\n",
        "del string_var"
      ],
      "metadata": {
        "id": "2xGU2MbznI7C"
      },
      "execution_count": null,
      "outputs": []
    }
  ],
  "metadata": {
    "colab": {
      "provenance": [],
      "include_colab_link": true
    },
    "kernelspec": {
      "display_name": "Python 3",
      "name": "python3"
    }
  },
  "nbformat": 4,
  "nbformat_minor": 0
}