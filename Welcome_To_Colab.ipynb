{
  "cells": [
    {
      "cell_type": "markdown",
      "metadata": {
        "id": "view-in-github",
        "colab_type": "text"
      },
      "source": [
        "<a href=\"https://colab.research.google.com/github/AhmadAl-Momani/python/blob/main/Welcome_To_Colab.ipynb\" target=\"_parent\"><img src=\"https://colab.research.google.com/assets/colab-badge.svg\" alt=\"Open In Colab\"/></a>"
      ]
    },
    {
      "cell_type": "code",
      "source": [
        "###function\n",
        "def student_avg():\n",
        "    num=int(input(\"enter num of mark :\"))\n",
        "    sum =0\n",
        "    for i in range(num):\n",
        "        mark=float(input(\"enter your mark :\"))\n",
        "        sum=sum+mark\n",
        "\n",
        "return sum/num\n",
        "\n",
        "\n",
        "print(student_avg())\n",
        "\n"
      ],
      "metadata": {
        "id": "2xGU2MbznI7C"
      },
      "execution_count": null,
      "outputs": []
    }
  ],
  "metadata": {
    "colab": {
      "name": "Welcome To Colab",
      "provenance": [],
      "include_colab_link": true
    },
    "kernelspec": {
      "display_name": "Python 3",
      "name": "python3"
    }
  },
  "nbformat": 4,
  "nbformat_minor": 0
}