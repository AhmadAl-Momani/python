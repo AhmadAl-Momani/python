{
  "cells": [
    {
      "cell_type": "markdown",
      "metadata": {
        "id": "view-in-github",
        "colab_type": "text"
      },
      "source": [
        "<a href=\"https://colab.research.google.com/github/AhmadAl-Momani/python/blob/main/Welcome_To_Colab.ipynb\" target=\"_parent\"><img src=\"https://colab.research.google.com/assets/colab-badge.svg\" alt=\"Open In Colab\"/></a>"
      ]
    },
    {
      "cell_type": "code",
      "source": [
        "###what is the list\n",
        "a=[1,2,3,4,5,6]\n",
        "s=[\"ahmad\",2,False]\n",
        "###input\n",
        "name=input(\"inter your name :\")\n",
        "salary=int(input(\"inter your salary :\"))\n",
        "###if statment\n",
        "if(salary>400):\n",
        "    print('good')\n",
        "elif(salary<300):\n",
        "    print(\"bad\")\n",
        "else:\n",
        "    print(\"your salary out of range\")\n",
        "  print('end')\n",
        "\n",
        "###loop(for,while)\n",
        "for i in range(0,20):\n",
        "    print(i)\n",
        "\n",
        "\n",
        "i=10\n",
        "while i>0:\n",
        "    print (\"ahmad\",\"amman\",23)\n",
        "    i-=1\n",
        "  print(\"loop is ended\")\n",
        "\n",
        "\n",
        "###function\n",
        "def student_avg():\n",
        "    num=int(input(\"enter num of mark :\"))\n",
        "    sum =0\n",
        "    for i in range(num):\n",
        "        mark=float(input(\"enter your mark :\"))\n",
        "        sum=sum+mark\n",
        "\n",
        "return sum/num\n",
        "\n",
        "\n",
        "print(student_avg())\n",
        "\n"
      ],
      "metadata": {
        "id": "2xGU2MbznI7C"
      },
      "execution_count": null,
      "outputs": []
    }
  ],
  "metadata": {
    "colab": {
      "name": "Welcome To Colab",
      "provenance": [],
      "include_colab_link": true
    },
    "kernelspec": {
      "display_name": "Python 3",
      "name": "python3"
    }
  },
  "nbformat": 4,
  "nbformat_minor": 0
}